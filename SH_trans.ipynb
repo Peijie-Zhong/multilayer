{
 "cells": [
  {
   "cell_type": "code",
   "execution_count": 38,
   "id": "e5ec73a1",
   "metadata": {},
   "outputs": [
    {
     "name": "stderr",
     "output_type": "stream",
     "text": [
      "generating network: 100%|██████████| 102361/102361 [29:14:47<00:00,  1.03s/it]  \n",
      "generating network: 100%|██████████| 102361/102361 [29:32:31<00:00,  1.04s/it]  "
     ]
    },
    {
     "name": "stdout",
     "output_type": "stream",
     "text": [
      "处理完成！结果已保存到文件: SH-S2S-net.csv\n"
     ]
    },
    {
     "name": "stderr",
     "output_type": "stream",
     "text": [
      "\n"
     ]
    }
   ],
   "source": [
    "import pandas as pd\n",
    "from geopy.geocoders import Nominatim\n",
    "from geopy.extra.rate_limiter import RateLimiter\n",
    "from tqdm import tqdm\n",
    "\n",
    "INPUT_CSV_FILE = 'transport_data/mobike_shanghai_sample_updated.csv'  \n",
    "OUTPUT_CSV_FILE = 'SH-S2S-net.csv'\n",
    "\n",
    "geolocator = Nominatim(user_agent=\"my-location-converter-app\")\n",
    "\n",
    "geocode = RateLimiter(geolocator.reverse, min_delay_seconds=1, error_wait_seconds=10)\n",
    "\n",
    "\n",
    "def get_suburb_from_coords(lat, lon):\n",
    "    try:\n",
    "        geolocator = Nominatim(user_agent=\"street_finder\")\n",
    "        location = geolocator.reverse((lat, lon), exactly_one=True)\n",
    "        address = location.raw['address']\n",
    "        street = address.get('suburb', '') \n",
    "        town = address.get('town', '')\n",
    "\n",
    "        if street != '':\n",
    "            return street\n",
    "        \n",
    "        elif street == '' and town != '':\n",
    "            return town\n",
    "        else: return \"Not info\"\n",
    "            \n",
    "    except Exception as e:\n",
    "        return f\"{e}\"\n",
    "\n",
    "df = pd.read_csv(INPUT_CSV_FILE)\n",
    "tqdm.pandas(desc=\"generating network\")\n",
    "df['start_street'] = df.progress_apply(\n",
    "    lambda row: get_suburb_from_coords(row['start_location_y'], row['start_location_x']),\n",
    "    axis=1\n",
    ")\n",
    "\n",
    "df['end_street'] = df.progress_apply(\n",
    "    lambda row: get_suburb_from_coords(row['end_location_y'], row['end_location_x']),\n",
    "    axis=1\n",
    ")\n",
    "\n",
    "\n",
    "output_df = df[[\n",
    "    'start_street',\n",
    "    'end_street',\n",
    "    'start_time',\n",
    "    'end_time'\n",
    "]].copy() \n",
    "\n",
    "\n",
    "output_df.rename(columns={\n",
    "    'start_street': 'start',\n",
    "    'end_street': 'end'\n",
    "}, inplace=True)\n",
    "\n",
    "\n",
    "\n",
    "output_df.to_csv(OUTPUT_CSV_FILE, index=False, encoding='utf-8-sig')\n",
    "\n",
    "print(f\"处理完成！结果已保存到文件: {OUTPUT_CSV_FILE}\")"
   ]
  },
  {
   "cell_type": "code",
   "execution_count": 9,
   "id": "b3a5a539",
   "metadata": {},
   "outputs": [
    {
     "name": "stderr",
     "output_type": "stream",
     "text": [
      "/var/folders/6r/8pf7t78x2jz69wslwjn4r2sc0000gn/T/ipykernel_59760/3930861005.py:41: UserWarning: The argument 'infer_datetime_format' is deprecated and will be removed in a future version. A strict version of it is now the default, see https://pandas.pydata.org/pdeps/0004-consistent-to-datetime-parsing.html. You can safely remove this argument.\n",
      "  df[time_col] = pd.to_datetime(df[time_col], errors=\"coerce\", infer_datetime_format=True)\n"
     ]
    },
    {
     "name": "stdout",
     "output_type": "stream",
     "text": [
      "Done. Wrote 594909 rows to SH-S2S-edges.csv\n"
     ]
    },
    {
     "data": {
      "application/vnd.microsoft.datawrangler.viewer.v0+json": {
       "columns": [
        {
         "name": "index",
         "rawType": "int64",
         "type": "integer"
        },
        {
         "name": "start",
         "rawType": "object",
         "type": "string"
        },
        {
         "name": "end",
         "rawType": "object",
         "type": "string"
        },
        {
         "name": "layer",
         "rawType": "int64",
         "type": "integer"
        }
       ],
       "ref": "ebb82fc3-184a-4e7f-aac7-4bbdc3b5b1e5",
       "rows": [
        [
         "344900",
         "莘庄镇",
         "莘庄镇",
         "0"
        ],
        [
         "274870",
         "长寿路街道",
         "甘泉路街道",
         "0"
        ],
        [
         "371841",
         "大场镇",
         "祁连一村二社区",
         "0"
        ],
        [
         "334230",
         "真如镇街道",
         "长征镇",
         "0"
        ],
        [
         "6654",
         "大桥街道",
         "北外滩街道",
         "0"
        ],
        [
         "402285",
         "新华路街道",
         "徐家汇街道",
         "0"
        ],
        [
         "352396",
         "桃浦镇",
         "桃浦镇",
         "0"
        ],
        [
         "259205",
         "田林街道",
         "田林街道",
         "0"
        ],
        [
         "84905",
         "长海路街道",
         "长海路街道",
         "0"
        ],
        [
         "399882",
         "长风新村街道",
         "长风新村街道",
         "0"
        ],
        [
         "104738",
         "长桥",
         "长桥",
         "0"
        ],
        [
         "85514",
         "曹杨新村街道",
         "长寿路街道",
         "0"
        ],
        [
         "139633",
         "天平路街道",
         "曹家渡街道",
         "0"
        ],
        [
         "28540",
         "殷行街道",
         "殷行街道",
         "0"
        ],
        [
         "447631",
         "定海路街道",
         "定海路街道",
         "0"
        ],
        [
         "530826",
         "长海路街道",
         "长海路街道",
         "0"
        ],
        [
         "383628",
         "彭浦新村街道",
         "大宁路街道",
         "0"
        ],
        [
         "552121",
         "大桥街道",
         "控江路街道",
         "0"
        ],
        [
         "394757",
         "莘庄镇",
         "莘庄镇",
         "0"
        ],
        [
         "88189",
         "五角场街道",
         "长海路街道",
         "0"
        ],
        [
         "40333",
         "场南村",
         "大华四村五社区",
         "0"
        ],
        [
         "342782",
         "张庙街道",
         "高境镇",
         "0"
        ],
        [
         "391161",
         "小东门街道",
         "小东门街道",
         "0"
        ],
        [
         "511816",
         "龙华街道",
         "斜土路街道",
         "0"
        ],
        [
         "294486",
         "五里桥街道",
         "打浦桥街道",
         "0"
        ],
        [
         "309603",
         "殷行街道",
         "长海路街道",
         "0"
        ],
        [
         "273422",
         "田林街道",
         "漕河泾街道",
         "0"
        ],
        [
         "17444",
         "长海路街道",
         "殷行街道",
         "0"
        ],
        [
         "265564",
         "斜土路街道",
         "斜土路街道",
         "0"
        ],
        [
         "183028",
         "江苏路街道",
         "瑞金二路街道",
         "0"
        ],
        [
         "507162",
         "大宁路街道",
         "大宁路街道",
         "0"
        ],
        [
         "526791",
         "高境镇",
         "淞南镇",
         "0"
        ],
        [
         "190986",
         "半淞园路街道",
         "半淞园路街道",
         "0"
        ],
        [
         "126742",
         "大桥街道",
         "江浦路街道",
         "0"
        ],
        [
         "259206",
         "田林街道",
         "田林街道",
         "1"
        ],
        [
         "526792",
         "高境镇",
         "淞南镇",
         "1"
        ],
        [
         "84906",
         "长海路街道",
         "长海路街道",
         "1"
        ],
        [
         "399883",
         "长风新村街道",
         "长风新村街道",
         "1"
        ],
        [
         "265565",
         "斜土路街道",
         "斜土路街道",
         "1"
        ],
        [
         "104739",
         "长桥",
         "长桥",
         "1"
        ],
        [
         "342783",
         "张庙街道",
         "高境镇",
         "1"
        ],
        [
         "139634",
         "天平路街道",
         "曹家渡街道",
         "1"
        ],
        [
         "298947",
         "五里桥街道",
         "五里桥街道",
         "1"
        ],
        [
         "28541",
         "殷行街道",
         "殷行街道",
         "1"
        ],
        [
         "507163",
         "大宁路街道",
         "大宁路街道",
         "1"
        ],
        [
         "511817",
         "龙华街道",
         "斜土路街道",
         "1"
        ],
        [
         "190987",
         "半淞园路街道",
         "半淞园路街道",
         "1"
        ],
        [
         "552122",
         "大桥街道",
         "控江路街道",
         "1"
        ],
        [
         "40334",
         "场南村",
         "大华四村五社区",
         "1"
        ],
        [
         "183029",
         "江苏路街道",
         "瑞金二路街道",
         "1"
        ]
       ],
       "shape": {
        "columns": 3,
        "rows": 594909
       }
      },
      "text/html": [
       "<div>\n",
       "<style scoped>\n",
       "    .dataframe tbody tr th:only-of-type {\n",
       "        vertical-align: middle;\n",
       "    }\n",
       "\n",
       "    .dataframe tbody tr th {\n",
       "        vertical-align: top;\n",
       "    }\n",
       "\n",
       "    .dataframe thead th {\n",
       "        text-align: right;\n",
       "    }\n",
       "</style>\n",
       "<table border=\"1\" class=\"dataframe\">\n",
       "  <thead>\n",
       "    <tr style=\"text-align: right;\">\n",
       "      <th></th>\n",
       "      <th>start</th>\n",
       "      <th>end</th>\n",
       "      <th>layer</th>\n",
       "    </tr>\n",
       "  </thead>\n",
       "  <tbody>\n",
       "    <tr>\n",
       "      <th>344900</th>\n",
       "      <td>莘庄镇</td>\n",
       "      <td>莘庄镇</td>\n",
       "      <td>0</td>\n",
       "    </tr>\n",
       "    <tr>\n",
       "      <th>274870</th>\n",
       "      <td>长寿路街道</td>\n",
       "      <td>甘泉路街道</td>\n",
       "      <td>0</td>\n",
       "    </tr>\n",
       "    <tr>\n",
       "      <th>371841</th>\n",
       "      <td>大场镇</td>\n",
       "      <td>祁连一村二社区</td>\n",
       "      <td>0</td>\n",
       "    </tr>\n",
       "    <tr>\n",
       "      <th>334230</th>\n",
       "      <td>真如镇街道</td>\n",
       "      <td>长征镇</td>\n",
       "      <td>0</td>\n",
       "    </tr>\n",
       "    <tr>\n",
       "      <th>6654</th>\n",
       "      <td>大桥街道</td>\n",
       "      <td>北外滩街道</td>\n",
       "      <td>0</td>\n",
       "    </tr>\n",
       "    <tr>\n",
       "      <th>...</th>\n",
       "      <td>...</td>\n",
       "      <td>...</td>\n",
       "      <td>...</td>\n",
       "    </tr>\n",
       "    <tr>\n",
       "      <th>125901</th>\n",
       "      <td>陆家嘴街道</td>\n",
       "      <td>东明路街道</td>\n",
       "      <td>1487</td>\n",
       "    </tr>\n",
       "    <tr>\n",
       "      <th>255682</th>\n",
       "      <td>大场镇</td>\n",
       "      <td>大场镇</td>\n",
       "      <td>1487</td>\n",
       "    </tr>\n",
       "    <tr>\n",
       "      <th>450383</th>\n",
       "      <td>外滩街道</td>\n",
       "      <td>豫园街道</td>\n",
       "      <td>1487</td>\n",
       "    </tr>\n",
       "    <tr>\n",
       "      <th>144081</th>\n",
       "      <td>甘泉路街道</td>\n",
       "      <td>甘泉路街道</td>\n",
       "      <td>1487</td>\n",
       "    </tr>\n",
       "    <tr>\n",
       "      <th>309422</th>\n",
       "      <td>天目西路街道</td>\n",
       "      <td>外滩街道</td>\n",
       "      <td>1487</td>\n",
       "    </tr>\n",
       "  </tbody>\n",
       "</table>\n",
       "<p>594909 rows × 3 columns</p>\n",
       "</div>"
      ],
      "text/plain": [
       "         start      end  layer\n",
       "344900     莘庄镇      莘庄镇      0\n",
       "274870   长寿路街道    甘泉路街道      0\n",
       "371841     大场镇  祁连一村二社区      0\n",
       "334230   真如镇街道      长征镇      0\n",
       "6654      大桥街道    北外滩街道      0\n",
       "...        ...      ...    ...\n",
       "125901   陆家嘴街道    东明路街道   1487\n",
       "255682     大场镇      大场镇   1487\n",
       "450383    外滩街道     豫园街道   1487\n",
       "144081   甘泉路街道    甘泉路街道   1487\n",
       "309422  天目西路街道     外滩街道   1487\n",
       "\n",
       "[594909 rows x 3 columns]"
      ]
     },
     "execution_count": 9,
     "metadata": {},
     "output_type": "execute_result"
    }
   ],
   "source": [
    "import pandas as pd\n",
    "import numpy as np\n",
    "\n",
    "def build_dynamic_network(\n",
    "    input_csv: str,\n",
    "    output_csv: str,\n",
    "    window: str = \"1H\",\n",
    "    offset: str = \"1H\",\n",
    "    time_col: str = \"start_time\",\n",
    "    start_col: str = \"start\",\n",
    "    end_col: str = \"end\",\n",
    "    drop_regexes = (r\"not info\", r\"https\"),\n",
    "    encoding: str = \"utf-8\"\n",
    ") -> pd.DataFrame:\n",
    "    \"\"\"\n",
    "    读取CSV -> 清洗 -> 按给定窗口大小(window)与滑动步长(offset)构建动态网络层 -> 导出(start,end,layer)\n",
    "    \n",
    "    说明：\n",
    "    - 窗口与步长均支持 pandas 的 Timedelta 格式（如 \"1H\", \"30min\", \"90min\"）。\n",
    "    - 窗口对齐每天 00:00，窗口起点按 offset 等距推进：t0, t0+offset, t0+2*offset, ...\n",
    "    - 若 offset < window（重叠滑窗），单条记录会被分配到所有覆盖其 start_time 的窗口层，导出多行。\n",
    "    - layer 从 0 开始，按窗口起点时间排序编号。\n",
    "    \"\"\"\n",
    "    # === 读取 ===\n",
    "    df = pd.read_csv(input_csv, encoding=encoding)\n",
    "\n",
    "    # 去掉字符串两端空白\n",
    "    for col in df.columns:\n",
    "        if df[col].dtype == object:\n",
    "            df[col] = df[col].astype(str).str.strip()\n",
    "\n",
    "    # === 清洗：正则剔除 ===\n",
    "    if drop_regexes:\n",
    "        for patt in drop_regexes:\n",
    "            mask = df.apply(lambda s: s.astype(str).str.lower().str.contains(patt, na=False))\n",
    "            df = df[~mask.any(axis=1)].copy()\n",
    "\n",
    "    # === 解析时间 ===\n",
    "    if time_col not in df.columns:\n",
    "        raise KeyError(f\"时间列 '{time_col}' 不在输入数据中。可通过参数 time_col 指定。\")\n",
    "    df[time_col] = pd.to_datetime(df[time_col], errors=\"coerce\", infer_datetime_format=True)\n",
    "    df = df.dropna(subset=[time_col]).copy()\n",
    "\n",
    "    # === 参数校验 ===\n",
    "    win_td = pd.to_timedelta(window)\n",
    "    step_td = pd.to_timedelta(offset)\n",
    "    if win_td <= pd.Timedelta(0):\n",
    "        raise ValueError(f\"非法的窗口大小: {window}\")\n",
    "    if step_td <= pd.Timedelta(0):\n",
    "        raise ValueError(f\"非法的步长(offset): {offset}\")\n",
    "\n",
    "    # === 设定锚点（全局最早日期的 00:00） ===\n",
    "    anchor_start = df[time_col].min().normalize()\n",
    "\n",
    "    # === 生成所有窗口起点（覆盖数据时间范围） ===\n",
    "    t_min = df[time_col].min()\n",
    "    t_max = df[time_col].max()\n",
    "\n",
    "    # 从 anchor_start 开始，步进 offset，直到能覆盖到 t_max 所在窗口\n",
    "    # 末端至少到 t_max 的窗口起点：max_start >= t_max - win_td\n",
    "    starts = []\n",
    "    cur = anchor_start\n",
    "    last_needed_start = (t_max - win_td)\n",
    "    while cur <= t_max:\n",
    "        starts.append(cur)\n",
    "        cur += step_td\n",
    "        # 若已经超过最后需要的起点且也超过 t_max，适当提前结束\n",
    "        if cur > t_max and cur > last_needed_start:\n",
    "            break\n",
    "\n",
    "    # 先准备窗口 -> layer 的映射\n",
    "    unique_starts = pd.Index(sorted(pd.to_datetime(starts)))\n",
    "    window_to_layer = {ts: i for i, ts in enumerate(unique_starts)}\n",
    "\n",
    "    # 数组与单位\n",
    "    starts_arr = unique_starts.values  # datetime64[ns]\n",
    "    starts_ns_arr = starts_arr.astype(\"datetime64[ns]\").astype(\"int64\")\n",
    "    win_ns = int(pd.to_timedelta(window).value)\n",
    "    step_ns = int(pd.to_timedelta(offset).value)\n",
    "    anchor_ns = int(pd.Timestamp(anchor_start).value)\n",
    "\n",
    "    def covering_window_starts(t: pd.Timestamp):\n",
    "        t_ns = int(t.value)\n",
    "        n_last = (t_ns - anchor_ns) // step_ns\n",
    "        span = int(np.ceil(win_ns / step_ns))\n",
    "        n_min = max(0, n_last - (span - 1))\n",
    "        res = []\n",
    "        for n in range(n_min, n_last + 1):\n",
    "            if 0 <= n < len(starts_ns_arr):\n",
    "                s_ns = int(starts_ns_arr[n])\n",
    "                if s_ns <= t_ns < s_ns + win_ns:\n",
    "                    res.append(pd.to_datetime(s_ns))\n",
    "        return res\n",
    "\n",
    "    # 展开行：为每条记录复制到其所有覆盖窗口\n",
    "    rows = []\n",
    "    for _, r in df.iterrows():\n",
    "        t = r[time_col]\n",
    "        ws = covering_window_starts(t)\n",
    "        for s in ws:\n",
    "            layer = window_to_layer[s]\n",
    "            rows.append((r[start_col], r[end_col], layer))\n",
    "\n",
    "    out = pd.DataFrame(rows, columns=[\"start\", \"end\", \"layer\"]).sort_values(\"layer\")\n",
    "    out.to_csv(output_csv, index=False, encoding=encoding)\n",
    "    print(f\"Done. Wrote {len(out)} rows to {output_csv}\")\n",
    "    return out\n",
    "\n",
    "\n",
    "build_dynamic_network(\n",
    "    input_csv=\"transport_data/SH-S2S-net.csv\",\n",
    "    output_csv=\"SH-S2S-edges.csv\",\n",
    "    window=\"3h\",   # 窗口大小\n",
    "    offset=\"30min\",   # 步长（可改为 \"30min\" 以使用重叠滑窗）\n",
    "    time_col=\"start_time\",\n",
    "    start_col=\"start\",\n",
    "    end_col=\"end\",\n",
    "    drop_regexes=(r\"not info\", r\"https\")\n",
    ")"
   ]
  }
 ],
 "metadata": {
  "kernelspec": {
   "display_name": ".venv",
   "language": "python",
   "name": "python3"
  },
  "language_info": {
   "codemirror_mode": {
    "name": "ipython",
    "version": 3
   },
   "file_extension": ".py",
   "mimetype": "text/x-python",
   "name": "python",
   "nbconvert_exporter": "python",
   "pygments_lexer": "ipython3",
   "version": "3.12.4"
  }
 },
 "nbformat": 4,
 "nbformat_minor": 5
}
